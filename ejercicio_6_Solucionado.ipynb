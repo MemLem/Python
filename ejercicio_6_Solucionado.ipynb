{
  "nbformat": 4,
  "nbformat_minor": 0,
  "metadata": {
    "colab": {
      "name": "Ejercicio_6_Solucionado.ipynb",
      "provenance": [],
      "include_colab_link": true
    },
    "kernelspec": {
      "name": "python3",
      "display_name": "Python 3"
    },
    "language_info": {
      "name": "python"
    }
  },
  "cells": [
    {
      "cell_type": "markdown",
      "metadata": {
        "id": "view-in-github",
        "colab_type": "text"
      },
      "source": [
        "<a href=\"https://colab.research.google.com/github/MemLem/Python/blob/main/ejercicio_6_Solucionado.ipynb\" target=\"_parent\"><img src=\"https://colab.research.google.com/assets/colab-badge.svg\" alt=\"Open In Colab\"/></a>"
      ]
    },
    {
      "cell_type": "markdown",
      "source": [
        "## Ejercicio 1\n",
        "Escribir una función que muestre por pantalla el saludo ¡Hola amiga(o)! cada vez que se la invoque."
      ],
      "metadata": {
        "id": "YWx64NiMIfdZ"
      }
    },
    {
      "cell_type": "code",
      "source": [
        "def saludo():\n",
        "  print('¡Hola, amig@!')\n",
        "  return"
      ],
      "metadata": {
        "id": "3nkL6teLIvdl"
      },
      "execution_count": null,
      "outputs": []
    },
    {
      "cell_type": "code",
      "source": [
        "saludo()"
      ],
      "metadata": {
        "id": "nGdaiBBw9tN8",
        "outputId": "a1976964-5825-45ba-d8a7-d5c0480c6542",
        "colab": {
          "base_uri": "https://localhost:8080/"
        }
      },
      "execution_count": null,
      "outputs": [
        {
          "output_type": "stream",
          "name": "stdout",
          "text": [
            "¡Hola, amig@!\n"
          ]
        }
      ]
    },
    {
      "cell_type": "markdown",
      "source": [
        "## Ejercicio 2\n",
        "Escribir una función a la que se le pase una cadena nombre y muestre por pantalla el saludo ¡hola nombre!."
      ],
      "metadata": {
        "id": "Sx8CECVbI1oD"
      }
    },
    {
      "cell_type": "code",
      "source": [
        "def name_saludo():\n",
        "   nombre = input('Ingresa tu nombre: ')\n",
        "   print(f'¡Hola, {nombre}!')\n",
        "   return"
      ],
      "metadata": {
        "id": "ELoyrQj-JOyq"
      },
      "execution_count": null,
      "outputs": []
    },
    {
      "cell_type": "code",
      "source": [
        "name_saludo()"
      ],
      "metadata": {
        "id": "IofnWbCV_rpl",
        "outputId": "ac9c27cb-9433-4d29-c20e-6b8b56604f3e",
        "colab": {
          "base_uri": "https://localhost:8080/"
        }
      },
      "execution_count": null,
      "outputs": [
        {
          "output_type": "stream",
          "name": "stdout",
          "text": [
            "Ingresa tu nombre: Memo\n",
            "¡Hola, Memo!\n"
          ]
        }
      ]
    },
    {
      "cell_type": "markdown",
      "source": [
        "## Ejercicio 3\n",
        "Escribir una función que calcule el total de una factura tras aplicarle el IVA. La función debe recibir la cantidad sin IVA y el porcentaje de IVA a aplicar, y devolver el total de la factura. Si se invoca la función sin pasarle el porcentaje de IVA, deberá aplicar un 16%."
      ],
      "metadata": {
        "id": "Lm7Qo1eqJRGX"
      }
    },
    {
      "cell_type": "code",
      "source": [
        "def factura(*args):\n",
        "  subtotal = sum(args)\n",
        "  iva = subtotal * .16\n",
        "  total = subtotal + iva\n",
        "  print(f'El subtotal de los productos es de ${subtotal}, su IVA correspondiente es de ${iva}. La cantidad total a pagar es de ${total}')\n",
        "  return"
      ],
      "metadata": {
        "id": "-5uvJCB5KHSm"
      },
      "execution_count": null,
      "outputs": []
    },
    {
      "cell_type": "code",
      "source": [
        "factura(20, 18, 40)"
      ],
      "metadata": {
        "id": "j7luyVr1BbWW",
        "outputId": "13bafa08-4282-4c94-a048-1de5a620f778",
        "colab": {
          "base_uri": "https://localhost:8080/"
        }
      },
      "execution_count": null,
      "outputs": [
        {
          "output_type": "stream",
          "name": "stdout",
          "text": [
            "El subtotal de los productos es de $78, su IVA correspondiente es de $12.48. La cantidad total a pagar es de $90.48\n"
          ]
        }
      ]
    },
    {
      "cell_type": "markdown",
      "source": [
        "## Ejercicio 4: Trabajar con argumentos en funciones\n",
        "Los argumentos requeridos en las funciones se utilizan cuando las funciones necesitan que esos argumentos funcionen correctamente.\n",
        "\n",
        "Comienza por crear una función que necesite tres lecturas de calificaciones y devuelva un informe:"
      ],
      "metadata": {
        "id": "KKiK1kZzVpm0"
      }
    },
    {
      "cell_type": "code",
      "source": [
        "# Función para leer 3 calificaciones y muestre el promedio"
      ],
      "metadata": {
        "id": "wrLfV98GVyyJ"
      },
      "execution_count": null,
      "outputs": []
    },
    {
      "cell_type": "markdown",
      "source": [
        "Ahora que hemos definido la función de informes, vamos a comprobarlo. Las calificaciones serán 8,7,10"
      ],
      "metadata": {
        "id": "pBtVyatLV3CU"
      }
    },
    {
      "cell_type": "code",
      "source": [
        "# Llamamos a la función que genera el reporte print(funcion(cal1, cal2, cal3))\n"
      ],
      "metadata": {
        "id": "jrnr_SP3WOB1"
      },
      "execution_count": null,
      "outputs": []
    },
    {
      "cell_type": "markdown",
      "source": [
        "En lugar de simplemente crear el informe, la función también está calculando el promedio. Mejora la legibilidad extrayendo el cálculo promedio de la función en una nueva función para que el promedio se pueda hacer de forma independiente:"
      ],
      "metadata": {
        "id": "uvxEfXjBWe0g"
      }
    },
    {
      "cell_type": "code",
      "source": [
        "# Función promedio "
      ],
      "metadata": {
        "id": "paiWvAT6WlcH"
      },
      "execution_count": null,
      "outputs": []
    },
    {
      "cell_type": "markdown",
      "source": [
        "Ahora actualiza la función de informes para llamando a la nueva función del promedio:"
      ],
      "metadata": {
        "id": "7_4M9H0eWoY9"
      }
    },
    {
      "cell_type": "code",
      "source": [
        "# Actualiza la función"
      ],
      "metadata": {
        "id": "FchdIDElWq6y"
      },
      "execution_count": null,
      "outputs": []
    },
    {
      "cell_type": "markdown",
      "source": [
        "## SOLUCION"
      ],
      "metadata": {
        "id": "K1koSJUpWs2L"
      }
    },
    {
      "cell_type": "code",
      "source": [
        ""
      ],
      "metadata": {
        "id": "vKjim4bVKXsI"
      },
      "execution_count": null,
      "outputs": []
    },
    {
      "cell_type": "markdown",
      "source": [
        "Ejercicio 3"
      ],
      "metadata": {
        "id": "sfHlRxh5KQBd"
      }
    },
    {
      "cell_type": "code",
      "source": [
        "def factura(monto, iva=16):\n",
        "    return monto + monto*iva/100\n",
        "\n",
        "print(factura(452,10))\n",
        "print(factura(452))"
      ],
      "metadata": {
        "id": "NFPdw8GxKTJ6"
      },
      "execution_count": null,
      "outputs": []
    },
    {
      "cell_type": "markdown",
      "source": [
        "Ejercicio 4"
      ],
      "metadata": {
        "id": "-FpkUlSzKWW-"
      }
    },
    {
      "cell_type": "code",
      "source": [
        "# Función para leer 3 calificaciones  y muestre el promedio\n",
        "\n",
        "def reporte(cal1, cal2, cal3):\n",
        "    promedio = (cal1 + cal2 + cal3) / 3\n",
        "    return f\"\"\"Reporte de calificaciones:\n",
        "    Promedio: {promedio}\n",
        "    calificación 1 : {cal1}\n",
        "    calificación 2: {cal2}\n",
        "    calificación 3: {cal3}\n",
        "    \"\"\""
      ],
      "metadata": {
        "id": "6LGs1rjdWvWr"
      },
      "execution_count": null,
      "outputs": []
    },
    {
      "cell_type": "code",
      "source": [
        "# Llamamos a la función que genera el reporte print(funcion(cal1, cal2, cal3))\n",
        "print(reporte(8, 7, 10))"
      ],
      "metadata": {
        "id": "h4z1Toa4Xgqn"
      },
      "execution_count": null,
      "outputs": []
    },
    {
      "cell_type": "code",
      "source": [
        "# Función promedio \n",
        "def prom(values):\n",
        "    total = sum(values)\n",
        "    numero_de_items = len(values)\n",
        "    return total / numero_de_items"
      ],
      "metadata": {
        "id": "9KEOg_xTYFKn"
      },
      "execution_count": null,
      "outputs": []
    },
    {
      "cell_type": "code",
      "source": [
        "prom([8, 7, 10]) "
      ],
      "metadata": {
        "id": "5-SPvHjcYZDB"
      },
      "execution_count": null,
      "outputs": []
    },
    {
      "cell_type": "code",
      "source": [
        "# Actualiza la función\n",
        "def reporte(cal1, cal2, cal3):\n",
        "    return f\"\"\" Reporte:\n",
        "    Total Average: {prom([cal1, cal2, cal3])}\n",
        "    calificacion 1: {cal1}\n",
        "    calificación 2: {cal2}\n",
        "    calificación 3: {cal3}\n",
        "    \"\"\"\n",
        "\n",
        "print(reporte(8, 7, 10))"
      ],
      "metadata": {
        "id": "nuzuxnh6Y-Vz"
      },
      "execution_count": null,
      "outputs": []
    }
  ]
}