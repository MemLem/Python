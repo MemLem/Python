{
  "nbformat": 4,
  "nbformat_minor": 0,
  "metadata": {
    "colab": {
      "name": "EVALUACION_9.ipynb",
      "provenance": [],
      "collapsed_sections": [],
      "authorship_tag": "ABX9TyMtyXLaM9cj78yVsMqzFVoe",
      "include_colab_link": true
    },
    "kernelspec": {
      "name": "python3",
      "display_name": "Python 3"
    },
    "language_info": {
      "name": "python"
    }
  },
  "cells": [
    {
      "cell_type": "markdown",
      "metadata": {
        "id": "view-in-github",
        "colab_type": "text"
      },
      "source": [
        "<a href=\"https://colab.research.google.com/github/MemLem/Python/blob/main/EVALUACION_9.ipynb\" target=\"_parent\"><img src=\"https://colab.research.google.com/assets/colab-badge.svg\" alt=\"Open In Colab\"/></a>"
      ]
    },
    {
      "cell_type": "markdown",
      "source": [
        "# Práctica 9. Programación funcional. (6 puntos)"
      ],
      "metadata": {
        "id": "7k_sgBHuBLqv"
      }
    },
    {
      "cell_type": "markdown",
      "source": [
        "### Ejercicio 1 (2 puntos)"
      ],
      "metadata": {
        "id": "z-2zKGgDBSBH"
      }
    },
    {
      "cell_type": "markdown",
      "source": [
        "Realice un programa que pregunte aleatoriamente una multiplicación. El programa debe indicar si la respuesta ha sido correcta o no (en caso que la respuesta sea incorrecta el programa debe indicar cuál es la correcta). El programa preguntará 10 multiplicaciones, y al finalizar mostrará el número de aciertos.\n",
        "\n",
        "Análisis\n",
        "Hacemos un bucle con 10 iteraciones, en cada iteración se inicializan dos números con un valor aleatorio (de 2 a 10). Se calcula la multiplicación.\n",
        "Mostramos la multiplicación, y pedimos por teclado el resultado. Si coincide con la multiplicación calculada cuento un acierto, sino escribimos un mensaje de error mostrando el resultado correcto. Cuando salimos del bucle mostramos el número de aciertos.\n",
        "Ejemplo. imprime una multiplicacion (9 * 8 = )por teclado se ingresa la respuesta, eso pasa 10 veces y al final nos imprime cuantas respuestas fueron correctas\n",
        "\n",
        "Recuerda el import random"
      ],
      "metadata": {
        "id": "UZF-x1iHBZJo"
      }
    },
    {
      "cell_type": "code",
      "source": [
        ""
      ],
      "metadata": {
        "id": "-AYjg1rjBYZ4"
      },
      "execution_count": null,
      "outputs": []
    },
    {
      "cell_type": "markdown",
      "source": [
        "### Ejercicio 2 (2 puntos)"
      ],
      "metadata": {
        "id": "9d-Cp0tTBvYL"
      }
    },
    {
      "cell_type": "markdown",
      "source": [
        "Obtener el cuadrado de todos los elementos en la lista.\n",
        "\n",
        "Lista: [1,2,3,4,5,6,7,8,9,10]"
      ],
      "metadata": {
        "id": "hLSAQWNJBxkT"
      }
    },
    {
      "cell_type": "code",
      "source": [
        "lista = [numero ** 2 for numero in range (1,11)]\n",
        "\n",
        "print(lista)"
      ],
      "metadata": {
        "colab": {
          "base_uri": "https://localhost:8080/"
        },
        "id": "RSJOv1oKB1bQ",
        "outputId": "95e1d149-4316-47f1-aedf-fa521fa44b08"
      },
      "execution_count": 12,
      "outputs": [
        {
          "output_type": "stream",
          "name": "stdout",
          "text": [
            "[1, 4, 9, 16, 25, 36, 49, 64, 81, 100]\n"
          ]
        }
      ]
    },
    {
      "cell_type": "markdown",
      "source": [
        "### Ejercicio 3 (2 puntos)"
      ],
      "metadata": {
        "id": "_hsz0O-RB11g"
      }
    },
    {
      "cell_type": "markdown",
      "source": [
        "Obtener la cantidad de elementos mayores a 5 en la tupla.\n",
        "\n",
        "tupla = (5,2,6,7,8,10,77,55,2,1,30,4,2,3)"
      ],
      "metadata": {
        "id": "pfRNwxBbB4-g"
      }
    },
    {
      "cell_type": "code",
      "source": [
        "\n",
        "tupla = (5,2,6,7,8,10,77,55,2,1,30,4,2,3)\n",
        "\n",
        "def mayor5():\n",
        "    for numero in tupla:\n",
        "        if numero > 5:\n",
        "            yield numero\n",
        "\n",
        "list(mayor5())"
      ],
      "metadata": {
        "colab": {
          "base_uri": "https://localhost:8080/"
        },
        "id": "5HR2JsMpCEtW",
        "outputId": "fb57e21b-16f2-4efd-e5fd-92e5c3c770f2"
      },
      "execution_count": 15,
      "outputs": [
        {
          "output_type": "execute_result",
          "data": {
            "text/plain": [
              "[6, 7, 8, 10, 77, 55, 30]"
            ]
          },
          "metadata": {},
          "execution_count": 15
        }
      ]
    },
    {
      "cell_type": "markdown",
      "source": [
        "### Ejercicio 4 (2 puntos)"
      ],
      "metadata": {
        "id": "Vw7GrNSXCDg_"
      }
    },
    {
      "cell_type": "markdown",
      "source": [
        "Obtener la suma de todos los elementos en la lista\n",
        "\n",
        "lista = [1,2,3,4]"
      ],
      "metadata": {
        "id": "xcRps8Y7CH--"
      }
    },
    {
      "cell_type": "code",
      "source": [
        "from functools import reduce\n",
        "\n",
        "def add(x, y):\n",
        "    return x + y\n",
        "\n",
        "lista = [1,2,3,4]\n",
        "print(reduce(add, lista))\n"
      ],
      "metadata": {
        "colab": {
          "base_uri": "https://localhost:8080/"
        },
        "id": "MefGs_eLCKdu",
        "outputId": "44a75da4-15fd-4d66-e4cb-ff8454cb72a8"
      },
      "execution_count": 16,
      "outputs": [
        {
          "output_type": "stream",
          "name": "stdout",
          "text": [
            "10\n"
          ]
        }
      ]
    }
  ]
}